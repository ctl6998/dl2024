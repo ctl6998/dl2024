{
 "cells": [
  {
   "cell_type": "code",
   "execution_count": 30,
   "id": "652c5146",
   "metadata": {},
   "outputs": [],
   "source": [
    "from keras.datasets import mnist\n",
    "from keras.utils import np_utils\n",
    "import random\n",
    "\n",
    "from dense import Dense\n",
    "from convolutional import Convolutional\n",
    "from reshape import Reshape\n",
    "from activations import Sigmoid\n",
    "from losses import binary_cross_entropy, binary_cross_entropy_derivative\n",
    "from network import train, predict\n",
    "import matplotlib.pyplot as plt"
   ]
  },
  {
   "cell_type": "code",
   "execution_count": 31,
   "id": "418e7f12-5c70-47db-9e7f-c072aa5d52b9",
   "metadata": {},
   "outputs": [],
   "source": [
    "#Load MNIST data\n",
    "(x_train, y_train), (x_test, y_test) = mnist.load_data()"
   ]
  },
  {
   "cell_type": "code",
   "execution_count": 32,
   "id": "7d9a9535-0dc3-4f99-81b2-b2a1179165ed",
   "metadata": {},
   "outputs": [
    {
     "data": {
      "image/png": "[encoded data removed]",
      "text/plain": [
       "<Figure size 640x480 with 1 Axes>"
      ]
     },
     "metadata": {},
     "output_type": "display_data"
    },
    {
     "name": "stdout",
     "output_type": "stream",
     "text": [
      "Height: 28, Width: 28, Depth: 1\n"
     ]
    }
   ],
   "source": [
    "#Preview data\n",
    "def display_image_and_matrix(index, data, label):\n",
    "    image = data[index]\n",
    "    label = label[index]\n",
    "\n",
    "    plt.imshow(image, cmap='gray')\n",
    "    plt.title(f\"Label: {label}\")\n",
    "    plt.axis('off')\n",
    "    plt.show()\n",
    "\n",
    "    height, width = image.shape\n",
    "    depth = 1 #By default MNIST\n",
    "    print(f\"Height: {height}, Width: {width}, Depth: {depth}\")\n",
    "    # print(f\"Matrix representation of image with label {label}:\\n\", image)\n",
    "\n",
    "display_image_and_matrix(0, x_train, y_train)"
   ]
  },
  {
   "cell_type": "code",
   "execution_count": 33,
   "id": "d95d6e59",
   "metadata": {},
   "outputs": [],
   "source": [
    "def preprocess_data(x, y, limit):\n",
    "    # Collect label 0 and 1 only\n",
    "    zero_index = [i for i in range(len(y)) if y[i] == 0][:limit]\n",
    "    one_index = [i for i in range(len(y)) if y[i] == 1][:limit]\n",
    "    all_indices = zero_index + one_index\n",
    "    random.shuffle(all_indices)\n",
    "    \n",
    "    # Init data with label set\n",
    "    x = [x[i] for i in all_indices]\n",
    "    y = [y[i] for i in all_indices]\n",
    "    \n",
    "    # Reshape x\n",
    "    x_reshaped = []\n",
    "    for item in x:\n",
    "        reshaped = []\n",
    "        for row in item:\n",
    "            reshaped.extend(row)\n",
    "        x_reshaped.append([[float(pixel) / 255] for pixel in reshaped])\n",
    "    x = x_reshaped\n",
    "    \n",
    "    # Encode y\n",
    "    # Initializes an empty list y_encoded.\n",
    "    # For each label in y, appends a one-hot encoded representation:\n",
    "    # If the label is 0, append [[1], [0]] (indicating the first class).\n",
    "    # If the label is 1, append [[0], [1]] (indicating the second class).\n",
    "    y_encoded = []\n",
    "    for item in y:\n",
    "        if item == 0:\n",
    "            y_encoded.append([[1], [0]])\n",
    "        else:\n",
    "            y_encoded.append([[0], [1]])\n",
    "    y = y_encoded\n",
    "    \n",
    "    return x, y"
   ]
  },
  {
   "cell_type": "code",
   "execution_count": 34,
   "id": "730af882-286b-4f80-9b27-7c898614f99d",
   "metadata": {},
   "outputs": [],
   "source": [
    "x_train, y_train = preprocess_data(x_train, y_train, 100)\n",
    "x_test, y_test = preprocess_data(x_test, y_test, 100)"
   ]
  },
  {
   "cell_type": "code",
   "execution_count": 35,
   "id": "bdfc4562-9414-428d-9364-d1edb5674327",
   "metadata": {},
   "outputs": [
    {
     "ename": "TypeError",
     "evalue": "Sigmoid.__init__() got an unexpected keyword argument 'log'",
     "output_type": "error",
     "traceback": [
      "\u001b[0;31m---------------------------------------------------------------------------\u001b[0m",
      "\u001b[0;31mTypeError\u001b[0m                                 Traceback (most recent call last)",
      "Cell \u001b[0;32mIn[35], line 4\u001b[0m\n\u001b[1;32m      1\u001b[0m \u001b[38;5;28;01mimport\u001b[39;00m \u001b[38;5;21;01mnumpy\u001b[39;00m \u001b[38;5;28;01mas\u001b[39;00m \u001b[38;5;21;01mnp\u001b[39;00m\n\u001b[1;32m      2\u001b[0m network \u001b[38;5;241m=\u001b[39m [\n\u001b[1;32m      3\u001b[0m     Convolutional(input_shape\u001b[38;5;241m=\u001b[39m(\u001b[38;5;241m1\u001b[39m, \u001b[38;5;241m28\u001b[39m, \u001b[38;5;241m28\u001b[39m), kernel_size\u001b[38;5;241m=\u001b[39m\u001b[38;5;241m3\u001b[39m, depth\u001b[38;5;241m=\u001b[39m\u001b[38;5;241m5\u001b[39m, mode\u001b[38;5;241m=\u001b[39m\u001b[38;5;124m'\u001b[39m\u001b[38;5;124mvalid\u001b[39m\u001b[38;5;124m'\u001b[39m),\n\u001b[0;32m----> 4\u001b[0m     \u001b[43mSigmoid\u001b[49m\u001b[43m(\u001b[49m\u001b[43mlog\u001b[49m\u001b[38;5;241;43m=\u001b[39;49m\u001b[38;5;28;43;01mFalse\u001b[39;49;00m\u001b[43m)\u001b[49m,\n\u001b[1;32m      5\u001b[0m     Reshape(input_shape\u001b[38;5;241m=\u001b[39m(\u001b[38;5;241m5\u001b[39m, \u001b[38;5;241m26\u001b[39m, \u001b[38;5;241m26\u001b[39m), output_shape\u001b[38;5;241m=\u001b[39m(\u001b[38;5;241m3380\u001b[39m, \u001b[38;5;241m1\u001b[39m)), \u001b[38;5;66;03m#Output is (5*26*26=3380, 1)\u001b[39;00m\n\u001b[1;32m      6\u001b[0m     Dense(\u001b[38;5;241m5\u001b[39m \u001b[38;5;241m*\u001b[39m \u001b[38;5;241m26\u001b[39m \u001b[38;5;241m*\u001b[39m \u001b[38;5;241m26\u001b[39m, \u001b[38;5;241m100\u001b[39m),\n\u001b[1;32m      7\u001b[0m     Sigmoid(log\u001b[38;5;241m=\u001b[39m\u001b[38;5;28;01mFalse\u001b[39;00m),\n\u001b[1;32m      8\u001b[0m     Dense(\u001b[38;5;241m100\u001b[39m, \u001b[38;5;241m2\u001b[39m),\n\u001b[1;32m      9\u001b[0m     Sigmoid(log\u001b[38;5;241m=\u001b[39m\u001b[38;5;28;01mFalse\u001b[39;00m)\n\u001b[1;32m     10\u001b[0m ]\n\u001b[1;32m     12\u001b[0m train(\n\u001b[1;32m     13\u001b[0m     network,\n\u001b[1;32m     14\u001b[0m     binary_cross_entropy,\n\u001b[0;32m   (...)\u001b[0m\n\u001b[1;32m     19\u001b[0m     learning_rate\u001b[38;5;241m=\u001b[39m\u001b[38;5;241m0.1\u001b[39m\n\u001b[1;32m     20\u001b[0m )\n\u001b[1;32m     22\u001b[0m \u001b[38;5;28;01mfor\u001b[39;00m x, y \u001b[38;5;129;01min\u001b[39;00m \u001b[38;5;28mzip\u001b[39m(x_test, y_test):\n",
      "\u001b[0;31mTypeError\u001b[0m: Sigmoid.__init__() got an unexpected keyword argument 'log'"
     ]
    }
   ],
   "source": [
    "import numpy as np\n",
    "network = [\n",
    "    Convolutional(input_shape=(1, 28, 28), kernel_size=3, depth=5, mode='valid'),\n",
    "    Sigmoid(log=False),\n",
    "    Reshape(input_shape=(5, 26, 26), output_shape=(3380, 1)), #Output is (5*26*26=3380, 1)\n",
    "    Dense(5 * 26 * 26, 100),\n",
    "    Sigmoid(log=False),\n",
    "    Dense(100, 2),\n",
    "    Sigmoid(log=False)\n",
    "]\n",
    "\n",
    "train(\n",
    "    network,\n",
    "    binary_cross_entropy,\n",
    "    binary_cross_entropy_derivative,\n",
    "    x_train,\n",
    "    y_train,\n",
    "    epochs=20,\n",
    "    learning_rate=0.1\n",
    ")\n",
    "\n",
    "for x, y in zip(x_test, y_test):\n",
    "    output = predict(network, x)\n",
    "    print(f\"pred: {np.argmax(output)}, true: {np.argmax(y)}\")"
   ]
  },
  {
   "cell_type": "code",
   "execution_count": null,
   "id": "d8a542b5-2d40-48a8-be04-a4b28d9cdead",
   "metadata": {},
   "outputs": [],
   "source": []
  }
 ],
 "metadata": {
  "kernelspec": {
   "display_name": "Python 3 (ipykernel)",
   "language": "python",
   "name": "python3"
  },
  "language_info": {
   "codemirror_mode": {
    "name": "ipython",
    "version": 3
   },
   "file_extension": ".py",
   "mimetype": "text/x-python",
   "name": "python",
   "nbconvert_exporter": "python",
   "pygments_lexer": "ipython3",
   "version": "3.10.13"
  }
 },
 "nbformat": 4,
 "nbformat_minor": 5
}
